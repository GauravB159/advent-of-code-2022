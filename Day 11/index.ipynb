{
 "cells": [
  {
   "cell_type": "code",
   "execution_count": 145,
   "metadata": {},
   "outputs": [
    {
     "name": "stdout",
     "output_type": "stream",
     "text": [
      "19754471646\n"
     ]
    }
   ],
   "source": [
    "# Read input from file\n",
    "with open('input.txt', 'r') as f:\n",
    "    input = f.read()\n",
    "input = input.split('\\n\\n')\n",
    "input = [x.split(\"\\n\")[1:] for x in input]\n",
    "input = [{val.split(\": \")[0].strip(): val.split(\": \")[1].strip() for val in x} for x in input]\n",
    "input = [{key: list(map(int, value.split(\", \"))) if key == 'Starting items' else value for key, value in x.items()} for x in input]\n",
    "input = [{key: int(value.split(\"divisible by\")[1]) if key == 'Test' else value for key, value in x.items()} for x in input]\n",
    "input = [{key: int(value.split(\"throw to monkey \")[1]) if 'If ' in key else value for key, value in x.items()} for x in input]\n",
    "input = [{key: value.split(\"new = old \")[1] if 'Operation' in key else value for key, value in x.items()} for x in input]\n",
    "\n",
    "monkey_counts = [0 for _ in range(len(input))]\n",
    "for round in range(10000):\n",
    "    for j, monkey in enumerate(input):\n",
    "        for i in range(len(monkey['Starting items'])):\n",
    "            monkey_counts[j]+=1\n",
    "            starting_item = monkey['Starting items'].pop(0)\n",
    "            starting_item = eval(f\"{starting_item} {monkey['Operation'].replace('old', str(starting_item))}\")\n",
    "            starting_item = int(starting_item / 3)\n",
    "            starting_item = starting_item\n",
    "            if(starting_item % monkey['Test'] == 0):\n",
    "                move_to = monkey['If true']\n",
    "            else:\n",
    "                move_to = monkey['If false']\n",
    "            input[move_to]['Starting items'].append(starting_item)\n",
    "    # print(input)\n",
    "    # print()\n",
    "print(sorted(monkey_counts)[-1] * sorted(monkey_counts)[-2])"
   ]
  },
  {
   "cell_type": "code",
   "execution_count": 1,
   "metadata": {},
   "outputs": [
    {
     "name": "stdout",
     "output_type": "stream",
     "text": [
      "[{'Starting items': [[15, 1, 3, 6, 0, 0, 1, 1], [9, 1, 0, 15, 3, 1, 0, 0]], 'Operation': '* 13', 'Test': 19, 'If true': 6, 'If false': 2}, {'Starting items': [[2, 3, 1, 10, 1, 0, 0, 0], [2, 2, 9, 12, 6, 6, 1, 1], [2, 4, 4, 8, 3, 7, 2, 1]], 'Operation': '+ 7', 'Test': 5, 'If true': 0, 'If false': 3}, {'Starting items': [[0, 2, 2, 6, 1, 5, 0, 1], [2, 4, 4, 8, 3, 7, 2, 1], [2, 2, 9, 12, 6, 6, 1, 1], [8, 4, 7, 16, 0, 6, 0, 0], [15, 2, 6, 4, 2, 7, 0, 0], [7, 3, 6, 15, 6, 5, 2, 1], [18, 1, 1, 5, 0, 4, 2, 0], [0, 1, 10, 8, 6, 11, 1, 0]], 'Operation': '+ 6', 'Test': 11, 'If true': 5, 'If false': 7}, {'Starting items': [[5, 1, 4, 13, 4, 3, 0, 1], [2, 3, 1, 10, 1, 0, 0, 0], [13, 0, 4, 2, 0, 5, 1, 0], [1, 3, 3, 7, 2, 6, 1, 0], [8, 4, 7, 16, 0, 6, 0, 0]], 'Operation': '+ 5', 'Test': 17, 'If true': 6, 'If false': 0}, {'Starting items': [[3, 0, 5, 9, 4, 8, 0, 0]], 'Operation': '+ 8', 'Test': 7, 'If true': 1, 'If false': 3}, {'Starting items': [[0, 2, 2, 6, 1, 5, 0, 1], [12, 4, 3, 1, 6, 4, 0, 1], [6, 3, 8, 12, 0, 11, 0, 1], [18, 0, 9, 7, 5, 10, 0, 1], [5, 2, 7, 11, 6, 10, 2, 0], [1, 2, 0, 9, 0, 12, 2, 1], [15, 2, 6, 4, 2, 7, 0, 0]], 'Operation': '* 5', 'Test': 13, 'If true': 7, 'If false': 4}, {'Starting items': [[16, 3, 7, 5, 3, 8, 1, 1], [9, 1, 0, 15, 3, 1, 0, 0], [10, 1, 9, 1, 2, 8, 2, 0], [3, 4, 2, 11, 2, 1, 1, 1], [3, 3, 10, 13, 0, 7, 2, 0], [11, 2, 10, 2, 3, 9, 0, 1]], 'Operation': '* old', 'Test': 3, 'If true': 5, 'If false': 2}, {'Starting items': [[0, 0, 7, 10, 4, 4, 2, 1], [13, 4, 1, 4, 5, 11, 2, 1], [6, 3, 8, 12, 0, 11, 0, 1], [10, 2, 1, 16, 4, 2, 1, 1]], 'Operation': '+ 2', 'Test': 2, 'If true': 1, 'If false': 4}]\n",
      "19754471646\n"
     ]
    }
   ],
   "source": [
    "# Read input from file\n",
    "with open('input.txt', 'r') as f:\n",
    "    input = f.read()\n",
    "input = input.split('\\n\\n')\n",
    "input = [x.split(\"\\n\")[1:] for x in input]\n",
    "input = [{val.split(\": \")[0].strip(): val.split(\": \")[1].strip() for val in x} for x in input]\n",
    "input = [{key: list(map(int, value.split(\", \"))) if key == 'Starting items' else value for key, value in x.items()} for x in input]\n",
    "input = [{key: int(value.split(\"divisible by\")[1]) if key == 'Test' else value for key, value in x.items()} for x in input]\n",
    "input = [{key: int(value.split(\"throw to monkey \")[1]) if 'If ' in key else value for key, value in x.items()} for x in input]\n",
    "input = [{key: value.split(\"new = old \")[1] if 'Operation' in key else value for key, value in x.items()} for x in input]\n",
    "\n",
    "monkey_counts = [0 for _ in range(len(input))]\n",
    "divisors = [19, 5, 11, 17, 7, 13, 3, 2]\n",
    "monkey_items = [[list(y % x for x in divisors) for y in monkey['Starting items']] for monkey in input]\n",
    "input = [{key: monkey_items[i] if key == 'Starting items' else value for key, value in x.items()} for i, x in enumerate(input)]\n",
    "for round in range(10000):\n",
    "    for j, monkey in enumerate(input):\n",
    "        for i in range(len(monkey['Starting items'])):\n",
    "            monkey_counts[j]+=1\n",
    "            starting_item = monkey['Starting items'].pop(0)\n",
    "            starting_item = [y % divisors[i] for i, y in enumerate(starting_item)]\n",
    "            starting_item = [eval(f\"{x} {monkey['Operation'].replace('old', str(x))}\") for x in starting_item]\n",
    "            if(starting_item[j] % monkey['Test'] == 0):\n",
    "                move_to = monkey['If true']\n",
    "            else:\n",
    "                move_to = monkey['If false']\n",
    "            starting_item = [y % divisors[i] for i, y in enumerate(starting_item)]\n",
    "            input[move_to]['Starting items'].append(starting_item)\n",
    "        \n",
    "print(sorted(monkey_counts)[-1] * sorted(monkey_counts)[-2])"
   ]
  }
 ],
 "metadata": {
  "kernelspec": {
   "display_name": "Python 3.11.0 64-bit",
   "language": "python",
   "name": "python3"
  },
  "language_info": {
   "codemirror_mode": {
    "name": "ipython",
    "version": 3
   },
   "file_extension": ".py",
   "mimetype": "text/x-python",
   "name": "python",
   "nbconvert_exporter": "python",
   "pygments_lexer": "ipython3",
   "version": "3.11.0"
  },
  "orig_nbformat": 4,
  "vscode": {
   "interpreter": {
    "hash": "c261aea317cc0286b3b3261fbba9abdec21eaa57589985bb7a274bf54d6cc0a7"
   }
  }
 },
 "nbformat": 4,
 "nbformat_minor": 2
}
