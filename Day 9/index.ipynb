{
 "cells": [
  {
   "cell_type": "code",
   "execution_count": 44,
   "metadata": {},
   "outputs": [
    {
     "name": "stdout",
     "output_type": "stream",
     "text": [
      "6339\n"
     ]
    }
   ],
   "source": [
    "# Read input from file\n",
    "with open('input.txt', 'r') as f:\n",
    "    input = f.read()\n",
    "input = input.split('\\n')\n",
    "input = [x.split(' ') for x in input]\n",
    "input = [[x[0], int(x[1])] for x in input]\n",
    "head = (0,0)\n",
    "tail = (0,0)\n",
    "tail_visits = {}\n",
    "for command in input:\n",
    "    if(command[0] == 'R'):\n",
    "        hmove = 1\n",
    "        umove = 0\n",
    "    if(command[0] == 'L'):\n",
    "        hmove = -1\n",
    "        umove = 0\n",
    "    if(command[0] == 'U'):\n",
    "        hmove = 0\n",
    "        umove = 1\n",
    "    if(command[0] == 'D'):\n",
    "        hmove = 0\n",
    "        umove = -1\n",
    "    for i in range(command[1]):\n",
    "        head = (head[0] + hmove, head[1] + umove)\n",
    "        if(abs(head[0] - tail[0]) > 1):\n",
    "            tail = (tail[0] + hmove, head[1])\n",
    "        if(abs(head[1] - tail[1]) > 1):\n",
    "            tail = (head[0], tail[1] + umove)\n",
    "        tail_visits[f'{tail[0]},{tail[1]}'] = 1\n",
    "print(len(tail_visits.keys()))"
   ]
  },
  {
   "cell_type": "code",
   "execution_count": 12,
   "metadata": {},
   "outputs": [],
   "source": [
    "def print_rope(size, rope):\n",
    "    count = 0\n",
    "    for i in range(size[0]):\n",
    "        for j in range(size[1]):\n",
    "            if((i,j) in rope):\n",
    "                print(count, end='')\n",
    "                count+=1\n",
    "            else:\n",
    "                print('.', end='')\n",
    "        print('')\n",
    "    print('\\n')"
   ]
  },
  {
   "cell_type": "code",
   "execution_count": 28,
   "metadata": {},
   "outputs": [
    {
     "name": "stdout",
     "output_type": "stream",
     "text": [
      "2541\n"
     ]
    }
   ],
   "source": [
    "# Read input from file\n",
    "with open('input.txt', 'r') as f:\n",
    "    input = f.read()\n",
    "input = input.split('\\n')\n",
    "input = [x.split(' ') for x in input]\n",
    "input = [[x[0], int(x[1])] for x in input]\n",
    "size = 10\n",
    "rope = [(100,100) for x in range(size)]\n",
    "tail_visits = {}\n",
    "for command in input:\n",
    "    for i in range(command[1]):\n",
    "        if(command[0] == 'R'):\n",
    "            hmove = 1\n",
    "            umove = 0\n",
    "        if(command[0] == 'L'):\n",
    "            hmove = -1\n",
    "            umove = 0\n",
    "        if(command[0] == 'U'):\n",
    "            hmove = 0\n",
    "            umove = 1\n",
    "        if(command[0] == 'D'):\n",
    "            hmove = 0\n",
    "            umove = -1\n",
    "        rope[len(rope) - 1] = (rope[len(rope) - 1][0] + hmove, rope[len(rope) - 1][1] + umove)\n",
    "        for j in range(len(rope)-1, 0, -1):\n",
    "            if(rope[j][1] != rope[j-1][1]):\n",
    "                umove = (rope[j][1] - rope[j-1][1]) / abs(rope[j][1] - rope[j-1][1])\n",
    "            else:\n",
    "                umove = 0\n",
    "            if(rope[j][0] != rope[j-1][0]):\n",
    "                hmove = (rope[j][0] - rope[j-1][0]) / abs(rope[j][0] - rope[j-1][0])\n",
    "            else:\n",
    "                hmove = 0\n",
    "            if(abs(rope[j][0] - rope[j-1][0]) > 1 or abs(rope[j][1] - rope[j-1][1]) > 1):\n",
    "                rope[j-1] = (rope[j-1][0] + hmove, rope[j-1][1] + umove)\n",
    "        tail_visits[f'{int(rope[0][0])},{int(rope[0][1])}'] = 1\n",
    "print(len(tail_visits.keys()))"
   ]
  }
 ],
 "metadata": {
  "kernelspec": {
   "display_name": "Python 3.11.0 64-bit",
   "language": "python",
   "name": "python3"
  },
  "language_info": {
   "codemirror_mode": {
    "name": "ipython",
    "version": 3
   },
   "file_extension": ".py",
   "mimetype": "text/x-python",
   "name": "python",
   "nbconvert_exporter": "python",
   "pygments_lexer": "ipython3",
   "version": "3.11.0"
  },
  "orig_nbformat": 4,
  "vscode": {
   "interpreter": {
    "hash": "c261aea317cc0286b3b3261fbba9abdec21eaa57589985bb7a274bf54d6cc0a7"
   }
  }
 },
 "nbformat": 4,
 "nbformat_minor": 2
}
