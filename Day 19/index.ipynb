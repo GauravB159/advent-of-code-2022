{
 "cells": [
  {
   "cell_type": "code",
   "execution_count": 110,
   "metadata": {},
   "outputs": [],
   "source": [
    "def bfs(blueprint, bag):\n",
    "    queue = [bag]\n",
    "    robots = [\"ore\", \"clay\", \"obsidian\", \"geode\"]\n",
    "    costs = [\"ore\", \"clay\", \"obsidian\"]\n",
    "    robots = {robot: {cost: blueprint[f\"{robot}_robot_{cost}_cost\"] if f\"{robot}_robot_{cost}_cost\" in blueprint.keys() else 0 for cost in costs} for robot in robots}\n",
    "    max_state = {}\n",
    "    width = 10000\n",
    "    last_minute = -1\n",
    "    def cost_func(state):\n",
    "        cost = 2 * (state[\"geode\"] + state[\"geode_robot\"]) - state[\"ore\"] - state[\"clay\"] - state[\"obsidian\"] - state[\"ore_robot\"] - state[\"clay_robot\"] - state[\"obsidian_robot\"]\n",
    "        # if(robots[\"geode\"][\"ore\"]):\n",
    "        #     cost += robots[\"geode\"][\"ore\"] - state[\"ore\"]\n",
    "        # if(robots[\"geode\"][\"clay\"]):\n",
    "        #     cost += robots[\"geode\"][\"clay\"] - state[\"clay\"]\n",
    "        # if(robots[\"geode\"][\"obsidian\"]):\n",
    "        #     cost += robots[\"geode\"][\"obsidian\"] - state[\"obsidian\"]\n",
    "        return cost\n",
    "    while(len(queue)):\n",
    "        # Affordability check phase\n",
    "        state = queue.pop(0)\n",
    "        if(state[\"minute\"] > last_minute):\n",
    "            last_minute = state[\"minute\"]\n",
    "            queue.sort(key=lambda x: cost_func(x), reverse=True)\n",
    "            # print(queue, last_minute)\n",
    "            queue = queue[:width]\n",
    "        if(state[\"minute\"] > 23):\n",
    "            if(max_state == {}):\n",
    "                max_state = state\n",
    "            elif(state[\"geode\"] > max_state[\"geode\"]):\n",
    "                max_state = state\n",
    "            continue\n",
    "        # Affordability check\n",
    "        affordable_robots = {}\n",
    "        for robot in robots:\n",
    "            affordable = True\n",
    "            for cost in robots[robot]:\n",
    "                if(state[cost] < robots[robot][cost]):\n",
    "                    affordable = False\n",
    "                    break\n",
    "            if(affordable):\n",
    "                affordable_robots[robot] = True\n",
    "        # Collect phase\n",
    "        for item in state:\n",
    "            if(\"robot\" in item):\n",
    "                state[item.replace(\"_robot\", \"\")] += state[item]\n",
    "        state[\"minute\"] += 1\n",
    "        # Buy phase\n",
    "        for robot in affordable_robots:\n",
    "            new_state = state.copy()\n",
    "            new_state[f\"{robot}_robot\"] += 1\n",
    "            for cost in robots[robot]:\n",
    "                new_state[cost] -= robots[robot][cost]\n",
    "            queue.append(new_state)\n",
    "        queue.append(state)\n",
    "        # print(queue, \"QUEUE\")\n",
    "        # print()\n",
    "    print(max_state)\n",
    "    return max_state"
   ]
  },
  {
   "cell_type": "code",
   "execution_count": 111,
   "metadata": {},
   "outputs": [
    {
     "name": "stdout",
     "output_type": "stream",
     "text": [
      "{'ore_robot': 1, 'clay_robot': 11, 'obsidian_robot': 0, 'geode_robot': 0, 'geode': 0, 'ore': 2, 'clay': 121, 'obsidian': 0, 'minute': 24}\n",
      "{'ore_robot': 2, 'clay_robot': 3, 'obsidian_robot': 3, 'geode_robot': 1, 'geode': 2, 'ore': 1, 'clay': 15, 'obsidian': 9, 'minute': 24}\n"
     ]
    }
   ],
   "source": [
    "import re\n",
    "with open('input.txt', 'r') as f:\n",
    "    input = f.read()\n",
    "input = input.splitlines()\n",
    "regex = re.compile(r'Blueprint (?P<blueprint_id>\\d+): Each ore robot costs (?P<ore_robot_ore_cost>\\d+) ore. Each clay robot costs (?P<clay_robot_ore_cost>\\d+) ore. Each obsidian robot costs (?P<obsidian_robot_ore_cost>\\d+) ore and (?P<obsidian_robot_clay_cost>\\d+) clay. Each geode robot costs (?P<geode_robot_ore_cost>\\d+) ore and (?P<geode_robot_obsidian_cost>\\d+) obsidian.')\n",
    "input = [regex.match(x).groupdict() for x in input]\n",
    "input = [dict([a, int(x)] for a, x in b.items()) for b in input]\n",
    "\n",
    "for blueprint in input:\n",
    "    bag = {\n",
    "        \"ore_robot\": 1,\n",
    "        \"clay_robot\": 0,\n",
    "        \"obsidian_robot\": 0,\n",
    "        \"geode_robot\": 0,\n",
    "        \"geode\": 0,\n",
    "        \"ore\": 0, \n",
    "        \"clay\": 0,\n",
    "        \"obsidian\": 0,\n",
    "        \"minute\": 0\n",
    "    }\n",
    "    optimal_bag = bfs(blueprint, bag.copy())\n"
   ]
  }
 ],
 "metadata": {
  "kernelspec": {
   "display_name": "Python 3.11.0 64-bit",
   "language": "python",
   "name": "python3"
  },
  "language_info": {
   "codemirror_mode": {
    "name": "ipython",
    "version": 3
   },
   "file_extension": ".py",
   "mimetype": "text/x-python",
   "name": "python",
   "nbconvert_exporter": "python",
   "pygments_lexer": "ipython3",
   "version": "3.11.0"
  },
  "orig_nbformat": 4,
  "vscode": {
   "interpreter": {
    "hash": "c261aea317cc0286b3b3261fbba9abdec21eaa57589985bb7a274bf54d6cc0a7"
   }
  }
 },
 "nbformat": 4,
 "nbformat_minor": 2
}
