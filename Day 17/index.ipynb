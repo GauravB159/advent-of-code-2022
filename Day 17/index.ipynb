{
 "cells": [
  {
   "cell_type": "code",
   "execution_count": 81,
   "metadata": {},
   "outputs": [
    {
     "name": "stdout",
     "output_type": "stream",
     "text": [
      "[[2 2 2 2]\n",
      " [0 0 0 0]\n",
      " [0 0 0 0]\n",
      " [0 0 0 0]]\n"
     ]
    }
   ],
   "source": [
    "import numpy as np\n",
    "with open('input.txt', 'r') as f:\n",
    "    input = f.read()\n",
    "input = [x for x in input]\n",
    "count = 0\n",
    "direction_index = 0\n",
    "rock_index = 0\n",
    "rock_patterns = [[[2, 2, 2, 2]], [[0, 2, 0, 0], [2, 2, 2, 0], [0, 2, 0, 0]], [[0, 0, 2, 0], [0, 0, 2, 0], [2, 2, 2, 0]], [[2, 0, 0, 0], [2, 0, 0, 0], [2, 0, 0, 0], [2, 0, 0, 0]], [[2, 2, 0, 0], [2, 2, 0, 0]]]\n",
    "rock_patterns = np.array([np.array(pattern, dtype=\"object\") for pattern in rock_patterns], dtype=\"object\")\n",
    "for i, _ in enumerate(rock_patterns):\n",
    "    rock_patterns[i].resize((4,4), refcheck = False)\n",
    "cave = np.zeros((3, 7))\n",
    "current_tallest = 0\n",
    "y_index = 0\n",
    "print(rock_patterns[0])\n",
    "while(True):\n",
    "    count += 1\n",
    "    direction_index = (direction_index + 1) % len(input)\n",
    "    if count > 100:\n",
    "        break\n",
    "    x_correction = -1 if input[direction_index] == '<' else 1\n",
    "    check = len(rock_patterns[rock_index]) + current_tallest + 3 - len(cave)\n",
    "    if(check >= 0):\n",
    "        cave = np.append(cave, np.zeros((check, 7)), 0)\n",
    "    \n",
    "    # print(cave, check)\n",
    "    \n",
    "    \n",
    "    "
   ]
  }
 ],
 "metadata": {
  "kernelspec": {
   "display_name": "Python 3.11.0 64-bit",
   "language": "python",
   "name": "python3"
  },
  "language_info": {
   "codemirror_mode": {
    "name": "ipython",
    "version": 3
   },
   "file_extension": ".py",
   "mimetype": "text/x-python",
   "name": "python",
   "nbconvert_exporter": "python",
   "pygments_lexer": "ipython3",
   "version": "3.11.0"
  },
  "orig_nbformat": 4,
  "vscode": {
   "interpreter": {
    "hash": "c261aea317cc0286b3b3261fbba9abdec21eaa57589985bb7a274bf54d6cc0a7"
   }
  }
 },
 "nbformat": 4,
 "nbformat_minor": 2
}
