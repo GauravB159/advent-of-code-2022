{
 "cells": [
  {
   "cell_type": "code",
   "execution_count": 13,
   "metadata": {},
   "outputs": [
    {
     "name": "stdout",
     "output_type": "stream",
     "text": [
      "26\n"
     ]
    }
   ],
   "source": [
    "import re\n",
    "with open('input.txt', 'r') as f:\n",
    "    input = f.read()\n",
    "input = input.splitlines()\n",
    "regex = re.compile(r'Sensor at x=(-*\\d+), y=(-*\\d+): closest beacon is at x=(-*\\d+), y=(-*\\d+)')\n",
    "input = [regex.match(line).groups() for line in input]\n",
    "input = [{\"x\": int(coordinates[0]), \"y\": int(coordinates[1]), \"beacon_x\": int(coordinates[2]), \"beacon_y\": int(coordinates[3])} for coordinates in input]\n",
    "beacon_set = set()\n",
    "for sensor in input:\n",
    "    if(sensor[\"beacon_x\"] < sensor[\"x\"] and sensor[\"beacon_y\"] > sensor[\"y\"]):\n",
    "        xdirection = 1\n",
    "        ydirection = 1\n",
    "    elif(sensor[\"beacon_x\"] > sensor[\"x\"] and sensor[\"beacon_y\"] > sensor[\"y\"]):\n",
    "        xdirection = -1\n",
    "        ydirection = 1\n",
    "    elif(sensor[\"beacon_x\"] < sensor[\"x\"] and sensor[\"beacon_y\"] < sensor[\"y\"]):\n",
    "        xdirection = -1\n",
    "        ydirection = 1\n",
    "    elif(sensor[\"beacon_x\"] > sensor[\"x\"] and sensor[\"beacon_y\"] < sensor[\"y\"]):\n",
    "        xdirection = 1\n",
    "        ydirection = 1\n",
    "    start_point = {\"x\": sensor[\"x\"], \"y\": ydirection * sensor[\"beacon_y\"] + xdirection * (sensor[\"x\"] - sensor[\"beacon_x\"])}\n",
    "    sensor[\"distance\"] = abs(sensor[\"x\"] - start_point[\"x\"]) + abs(sensor[\"y\"] - start_point[\"y\"])\n",
    "    beacon_set.add((sensor[\"beacon_x\"], sensor[\"beacon_y\"]))\n",
    "\n",
    "# print(input)\n",
    "check_y = 10\n",
    "inside_points = set()\n",
    "bounds = []\n",
    "for sensor in input:\n",
    "    rhs = sensor[\"distance\"] - abs(check_y - sensor[\"y\"])\n",
    "    if(rhs < 0):\n",
    "        continue\n",
    "    lower_x = -(rhs) + sensor[\"x\"]\n",
    "    upper_x = rhs + sensor[\"x\"]\n",
    "    if(lower_x <= upper_x):\n",
    "        bounds.append((lower_x, upper_x))\n",
    "\n",
    "bounds = sorted(bounds, key=lambda x: x[0])\n",
    "new_bounds = []\n",
    "current_bound = bounds[0]\n",
    "for i in range(1, len(bounds)):\n",
    "    next_bound = bounds[i]\n",
    "    if(next_bound[0] <= current_bound[1] and next_bound[1] <= current_bound[1]):\n",
    "        continue\n",
    "    elif(next_bound[0] <= current_bound[1] and next_bound[1] > current_bound[1]):\n",
    "        current_bound = (current_bound[0], next_bound[1])\n",
    "    else:\n",
    "        new_bounds.append(current_bound)\n",
    "        current_bound = next_bound\n",
    "new_bounds.append(current_bound)\n",
    "print(new_bounds[0][1] - new_bounds[0][0])\n"
   ]
  },
  {
   "cell_type": "code",
   "execution_count": 42,
   "metadata": {},
   "outputs": [
    {
     "name": "stdout",
     "output_type": "stream",
     "text": [
      "2721114 3367718\n",
      "10884459367718\n"
     ]
    }
   ],
   "source": [
    "import re\n",
    "with open('input.txt', 'r') as f:\n",
    "    input = f.read()\n",
    "input = input.splitlines()\n",
    "regex = re.compile(r'Sensor at x=(-*\\d+), y=(-*\\d+): closest beacon is at x=(-*\\d+), y=(-*\\d+)')\n",
    "input = [regex.match(line).groups() for line in input]\n",
    "input = [{\"x\": int(coordinates[0]), \"y\": int(coordinates[1]), \"beacon_x\": int(coordinates[2]), \"beacon_y\": int(coordinates[3])} for coordinates in input]\n",
    "beacon_set = set()\n",
    "for sensor in input:\n",
    "    if(sensor[\"beacon_x\"] < sensor[\"x\"] and sensor[\"beacon_y\"] > sensor[\"y\"]):\n",
    "        xdirection = 1\n",
    "        ydirection = 1\n",
    "    elif(sensor[\"beacon_x\"] > sensor[\"x\"] and sensor[\"beacon_y\"] > sensor[\"y\"]):\n",
    "        xdirection = -1\n",
    "        ydirection = 1\n",
    "    elif(sensor[\"beacon_x\"] < sensor[\"x\"] and sensor[\"beacon_y\"] < sensor[\"y\"]):\n",
    "        xdirection = -1\n",
    "        ydirection = 1\n",
    "    elif(sensor[\"beacon_x\"] > sensor[\"x\"] and sensor[\"beacon_y\"] < sensor[\"y\"]):\n",
    "        xdirection = 1\n",
    "        ydirection = 1\n",
    "    start_point = {\"x\": sensor[\"x\"], \"y\": ydirection * sensor[\"beacon_y\"] + xdirection * (sensor[\"x\"] - sensor[\"beacon_x\"])}\n",
    "    sensor[\"distance\"] = abs(sensor[\"x\"] - start_point[\"x\"]) + abs(sensor[\"y\"] - start_point[\"y\"])\n",
    "    beacon_set.add((sensor[\"beacon_x\"], sensor[\"beacon_y\"]))\n",
    "\n",
    "# print(input)\n",
    "found = False\n",
    "max_x = 4000000\n",
    "for check_y in range(0, max_x):\n",
    "    bounds = []\n",
    "    for sensor in input:\n",
    "        rhs = sensor[\"distance\"] - abs(check_y - sensor[\"y\"])\n",
    "        if(rhs < 0):\n",
    "            continue\n",
    "        lower_x = -(rhs) + sensor[\"x\"]\n",
    "        upper_x = rhs + sensor[\"x\"]\n",
    "        if(lower_x < 0):\n",
    "            lower_x = 0\n",
    "        if(upper_x > max_x):\n",
    "            upper_x = max_x\n",
    "        if(lower_x <= upper_x):\n",
    "            bounds.append((lower_x, upper_x))\n",
    "\n",
    "    bounds = sorted(bounds, key=lambda x: x[0])\n",
    "    new_bounds = []\n",
    "    current_bound = bounds[0]\n",
    "    for i in range(1, len(bounds)):\n",
    "        next_bound = bounds[i]\n",
    "        if(next_bound[0] - 1 <= current_bound[1] and next_bound[1] - 1 < current_bound[1]):\n",
    "            continue\n",
    "        elif(next_bound[0] - 1 <= current_bound[1] and next_bound[1] - 1 >= current_bound[1]):\n",
    "            current_bound = (current_bound[0], next_bound[1])\n",
    "        else:\n",
    "            new_bounds.append(current_bound)\n",
    "            current_bound = next_bound\n",
    "            found = True\n",
    "            break\n",
    "    if(found):\n",
    "        break\n",
    "if(new_bounds and new_bounds[0]):\n",
    "    print(new_bounds[0][1] + 1, check_y)\n",
    "    print((new_bounds[0][1] + 1) * max_x + check_y)\n"
   ]
  }
 ],
 "metadata": {
  "kernelspec": {
   "display_name": "Python 3.11.0 64-bit",
   "language": "python",
   "name": "python3"
  },
  "language_info": {
   "codemirror_mode": {
    "name": "ipython",
    "version": 3
   },
   "file_extension": ".py",
   "mimetype": "text/x-python",
   "name": "python",
   "nbconvert_exporter": "python",
   "pygments_lexer": "ipython3",
   "version": "3.11.0"
  },
  "orig_nbformat": 4,
  "vscode": {
   "interpreter": {
    "hash": "c261aea317cc0286b3b3261fbba9abdec21eaa57589985bb7a274bf54d6cc0a7"
   }
  }
 },
 "nbformat": 4,
 "nbformat_minor": 2
}
