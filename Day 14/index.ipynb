{
 "cells": [
  {
   "cell_type": "code",
   "execution_count": 3,
   "metadata": {},
   "outputs": [],
   "source": [
    "import matplotlib.pyplot as plt\n",
    "import numpy as np\n",
    "import os \n",
    "from matplotlib.colors import ListedColormap\n",
    "\n",
    "def print_cave(cave, folder = \"cave\", count = 0):\n",
    "    if not os.path.exists(folder):\n",
    "        os.makedirs(folder)\n",
    "    cmap = ListedColormap([[92 / 255, 64 / 255, 51 / 255], [44 / 255, 176 / 255, 26 / 255], [255 / 255, 191 / 255, 0 / 255]])\n",
    "    plt.matshow(cave, cmap=cmap)\n",
    "    plt.axis('off')\n",
    "    plt.savefig(f\"{folder}/{folder}_frame_{count}.png\", bbox_inches='tight', pad_inches=0, transparent=True)\n",
    "    plt.close()"
   ]
  },
  {
   "cell_type": "code",
   "execution_count": 2,
   "metadata": {},
   "outputs": [],
   "source": [
    "import matplotlib.image as mgimg\n",
    "from matplotlib import animation\n",
    "import shutil\n",
    "\n",
    "def animate(folder, imgcount):\n",
    "    fig = plt.figure(frameon=False)\n",
    "    ax = plt.Axes(fig, [0., 0., 1., 1.])\n",
    "    ax.set_axis_off()\n",
    "    fig.add_axes(ax)\n",
    "    myimages = []\n",
    "    for p in range(1, imgcount):\n",
    "\n",
    "        ## Read in picture\n",
    "        fname = f\"{folder}/{folder}_frame_{p}.png\"\n",
    "        img = mgimg.imread(fname)\n",
    "        imgplot = plt.imshow(img)\n",
    "\n",
    "        # append AxesImage object to the list\n",
    "        myimages.append([imgplot])\n",
    "        \n",
    "    my_anim = animation.ArtistAnimation(fig, myimages, repeat_delay=1000, interval=100, blit=True)\n",
    "    my_anim.save(f'{folder}.gif')\n",
    "    shutil.rmtree(folder)\n"
   ]
  },
  {
   "cell_type": "code",
   "execution_count": 81,
   "metadata": {},
   "outputs": [],
   "source": [
    "import matplotlib.image as mgimg\n",
    "from matplotlib import animation\n",
    "import shutil\n",
    "\n",
    "def animate_fast(folder, frames, size):\n",
    "    fig = plt.figure(frameon=False)\n",
    "    ax = plt.Axes(fig, [0., 0., 1., 1.])\n",
    "    ax.set_axis_off()\n",
    "    fig.add_axes(ax)\n",
    "    cmap = ListedColormap([[92 / 255, 64 / 255, 51 / 255], [44 / 255, 176 / 255, 26 / 255], [255 / 255, 191 / 255, 0 / 255]])\n",
    "    im = plt.axis('off')\n",
    "    im = plt.matshow(frames[0], cmap=cmap, fignum=0)\n",
    "    fig.set_size_inches([*size])\n",
    "\n",
    "    def update_img(frame):\n",
    "        im.set_data(frame)\n",
    "        return im,\n",
    "    my_anim = animation.FuncAnimation(fig, update_img, frames, blit=True)\n",
    "    my_anim.save(f'{folder}.gif')\n",
    "    return my_anim\n"
   ]
  },
  {
   "cell_type": "code",
   "execution_count": 84,
   "metadata": {},
   "outputs": [
    {
     "name": "stderr",
     "output_type": "stream",
     "text": [
      "MovieWriter ffmpeg unavailable; using Pillow instead.\n"
     ]
    },
    {
     "name": "stdout",
     "output_type": "stream",
     "text": [
      "745\n"
     ]
    },
    {
     "data": {
      "text/plain": [
       "<matplotlib.animation.FuncAnimation at 0x20702ee4c10>"
      ]
     },
     "execution_count": 84,
     "metadata": {},
     "output_type": "execute_result"
    },
    {
     "data": {
      "image/png": "[encoded data removed]",
      "text/plain": [
       "<Figure size 444x1000 with 1 Axes>"
      ]
     },
     "metadata": {},
     "output_type": "display_data"
    }
   ],
   "source": [
    "with open('input.txt', 'r') as f:\n",
    "    input = f.read()\n",
    "input = input.splitlines()\n",
    "start = 450\n",
    "cave = [0 for _ in range(start, 530)]\n",
    "cave = [cave[:] for _ in range(180)]\n",
    "for line in input:\n",
    "    points = line.split(' -> ')\n",
    "    for i in range(len(points)-1):\n",
    "        point = points[i]\n",
    "        next_point = points[i+1]\n",
    "        x, y = point.split(',')\n",
    "        x = int(x) - start\n",
    "        y = int(y)\n",
    "        next_x, next_y = next_point.split(',')\n",
    "        next_x = int(next_x) - start\n",
    "        next_y = int(next_y)\n",
    "        if x == next_x:\n",
    "            for j in range(min(y, next_y), max(y, next_y)+1):\n",
    "                cave[j][x] = 1\n",
    "        else:\n",
    "            for j in range(min(x, next_x), max(x, next_x)+1):\n",
    "                cave[y][j] = 1\n",
    "cave[0][500 - start] = 2\n",
    "count = 0\n",
    "x = 0\n",
    "old = 0\n",
    "y = 1\n",
    "to_rest = 0\n",
    "framecount = 0\n",
    "cave = np.array(cave)\n",
    "caves = []\n",
    "while(True):\n",
    "    startx = x\n",
    "    count += 1\n",
    "    if(count % 100 == 0):\n",
    "        framecount += 1\n",
    "        caves.append(cave.copy())\n",
    "    if(count > 75000):\n",
    "        break\n",
    "    # print(x, startx, y, cave[y][500 - start + startx], cave[y][500 - start + startx - 1], cave[y][500 - start + startx + 1])\n",
    "    if(cave[y + 1][500 - start + startx] != 1 and cave[y + 1][500 - start + startx] != 2):\n",
    "        x = startx\n",
    "    elif(cave[y + 1][500 - start + startx - 1] != 1 and cave[y + 1][500 - start + startx - 1] != 2):\n",
    "        x = startx - 1\n",
    "    elif(cave[y + 1][500 - start + startx + 1] != 1 and cave[y + 1][500 - start + startx + 1] != 2):\n",
    "        x = startx + 1\n",
    "    else:\n",
    "        to_rest += 1\n",
    "        cave[y][500 - start + startx] = 2\n",
    "        x = 0\n",
    "        y = 1\n",
    "        continue\n",
    "    cave[y][500 - start + startx] = old\n",
    "    y += 1\n",
    "    if(y >= 179):\n",
    "        y = 1\n",
    "        x = 0\n",
    "    old = cave[y][500 - start + x]\n",
    "    cave[y][500 - start + x] = 3\n",
    "print(to_rest)\n",
    "animate_fast(\"cave\", caves, [4.44,10])\n",
    "\n"
   ]
  },
  {
   "cell_type": "code",
   "execution_count": 100,
   "metadata": {},
   "outputs": [
    {
     "name": "stderr",
     "output_type": "stream",
     "text": [
      "MovieWriter ffmpeg unavailable; using Pillow instead.\n"
     ]
    },
    {
     "name": "stdout",
     "output_type": "stream",
     "text": [
      "27551\n",
      "558\n"
     ]
    },
    {
     "data": {
      "text/plain": [
       "<matplotlib.animation.FuncAnimation at 0x2071c9018d0>"
      ]
     },
     "execution_count": 100,
     "metadata": {},
     "output_type": "execute_result"
    },
    {
     "data": {
      "image/png": "[encoded data removed]",
      "text/plain": [
       "<Figure size 840x400 with 1 Axes>"
      ]
     },
     "metadata": {},
     "output_type": "display_data"
    }
   ],
   "source": [
    "with open('input.txt', 'r') as f:\n",
    "    input = f.read()\n",
    "input = input.splitlines()\n",
    "start = 320\n",
    "end = 680\n",
    "cave = [0 for _ in range(start, end)]\n",
    "cave = [cave[:] for _ in range(172)]\n",
    "for line in input:\n",
    "    points = line.split(' -> ')\n",
    "    for i in range(len(points)-1):\n",
    "        point = points[i]\n",
    "        next_point = points[i+1]\n",
    "        x, y = point.split(',')\n",
    "        x = int(x) - start\n",
    "        y = int(y)\n",
    "        next_x, next_y = next_point.split(',')\n",
    "        next_x = int(next_x) - start\n",
    "        next_y = int(next_y)\n",
    "        if x == next_x:\n",
    "            for j in range(min(y, next_y), max(y, next_y)+1):\n",
    "                cave[j][x] = 1\n",
    "        else:\n",
    "            for j in range(min(x, next_x), max(x, next_x)+1):\n",
    "                cave[y][j] = 1\n",
    "\n",
    "cave[171] = [1 for _ in range(start, end)]\n",
    "cave[0][500 - start] = 2\n",
    "count = 0\n",
    "x = 0\n",
    "old = 0\n",
    "y = 1\n",
    "to_rest = 0\n",
    "framecount = 0\n",
    "cave = np.array(cave)\n",
    "caves = []\n",
    "while(True):\n",
    "    startx = x\n",
    "    count += 1\n",
    "    if(count % (1000 + count // 200) == 0):\n",
    "        framecount += 1\n",
    "        caves.append(cave.copy())\n",
    "    if(count > 3200000):\n",
    "        break\n",
    "    if(cave[y + 1][500 - start + startx] != 1 and cave[y + 1][500 - start + startx] != 2):\n",
    "        x = startx\n",
    "    elif(cave[y + 1][500 - start + startx - 1] != 1 and cave[y + 1][500 - start + startx - 1] != 2):\n",
    "        x = startx - 1\n",
    "    elif(cave[y + 1][500 - start + startx + 1] != 1 and cave[y + 1][500 - start + startx + 1] != 2):\n",
    "        x = startx + 1\n",
    "    else:\n",
    "        to_rest += 1\n",
    "        if(y == 0): \n",
    "            break\n",
    "        cave[y][500 - start + startx] = 2\n",
    "        x = 0\n",
    "        y = 0\n",
    "        continue\n",
    "    cave[y][500 - start + startx] = old\n",
    "    y += 1\n",
    "    if(y >= 179):\n",
    "        y = 1\n",
    "        x = 0\n",
    "    old = cave[y][500 - start + x]\n",
    "    cave[y][500 - start + x] = 3\n",
    "print(to_rest)\n",
    "print(framecount)\n",
    "animate_fast(\"cave_two\", caves, [8.4,4])\n",
    "\n"
   ]
  }
 ],
 "metadata": {
  "kernelspec": {
   "display_name": "Python 3.11.0 64-bit",
   "language": "python",
   "name": "python3"
  },
  "language_info": {
   "codemirror_mode": {
    "name": "ipython",
    "version": 3
   },
   "file_extension": ".py",
   "mimetype": "text/x-python",
   "name": "python",
   "nbconvert_exporter": "python",
   "pygments_lexer": "ipython3",
   "version": "3.11.0"
  },
  "orig_nbformat": 4,
  "vscode": {
   "interpreter": {
    "hash": "c261aea317cc0286b3b3261fbba9abdec21eaa57589985bb7a274bf54d6cc0a7"
   }
  }
 },
 "nbformat": 4,
 "nbformat_minor": 2
}
