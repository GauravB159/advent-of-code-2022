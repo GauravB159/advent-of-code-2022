{
 "cells": [
  {
   "cell_type": "code",
   "execution_count": 35,
   "metadata": {},
   "outputs": [
    {
     "name": "stdout",
     "output_type": "stream",
     "text": [
      "7446\n"
     ]
    }
   ],
   "source": [
    "# Read input from file\n",
    "with open('input.txt', 'r') as f:\n",
    "    input = f.read()\n",
    "    \n",
    "# Split input into lines\n",
    "input = input.split('\\n')\n",
    "input = [set(a[0:len(a)//2]).intersection(a[len(a)//2:]).pop() for a in input]\n",
    "input = [ord(a) - (ord('A') - 26 if a.isupper() else ord('a')) + 1 for a in input]\n",
    "print(sum(input))"
   ]
  },
  {
   "cell_type": "code",
   "execution_count": 49,
   "metadata": {},
   "outputs": [
    {
     "name": "stdout",
     "output_type": "stream",
     "text": [
      "2646\n"
     ]
    }
   ],
   "source": [
    "# Read input from file\n",
    "with open('input.txt', 'r') as f:\n",
    "    input = f.read()\n",
    "    \n",
    "# Split input into lines\n",
    "input = input.split('\\n')\n",
    "input = list(filter(lambda x: x, [set(set(x).intersection(input[i+1])).intersection(input[i+2]).pop() if i%3 == 0 else 0 for i, x in enumerate(input)]))\n",
    "input = [ord(a) - (ord('A') - 26 if a.isupper() else ord('a')) + 1 for a in input]\n",
    "print(sum(input))"
   ]
  }
 ],
 "metadata": {
  "kernelspec": {
   "display_name": "Python 3.11.0 64-bit",
   "language": "python",
   "name": "python3"
  },
  "language_info": {
   "codemirror_mode": {
    "name": "ipython",
    "version": 3
   },
   "file_extension": ".py",
   "mimetype": "text/x-python",
   "name": "python",
   "nbconvert_exporter": "python",
   "pygments_lexer": "ipython3",
   "version": "3.11.0"
  },
  "orig_nbformat": 4,
  "vscode": {
   "interpreter": {
    "hash": "c261aea317cc0286b3b3261fbba9abdec21eaa57589985bb7a274bf54d6cc0a7"
   }
  }
 },
 "nbformat": 4,
 "nbformat_minor": 2
}
