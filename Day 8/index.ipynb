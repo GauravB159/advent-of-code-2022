{
 "cells": [
  {
   "cell_type": "code",
   "execution_count": 39,
   "metadata": {},
   "outputs": [],
   "source": [
    "def check_visibility(input, x, y):\n",
    "    if(x == 0 or y == 0 or x == len(input) - 1 or y == len(input[x]) - 1):\n",
    "        return True\n",
    "    visible = False\n",
    "    for i in range(0, x):\n",
    "        if(input[i][y] < input[x][y]):\n",
    "            visible = True\n",
    "        else:\n",
    "            visible = False\n",
    "            break\n",
    "    if(visible):\n",
    "        return visible\n",
    "    for i in range(x+1, len(input)):\n",
    "        if(input[i][y] < input[x][y]):\n",
    "            visible = True\n",
    "        else:\n",
    "            visible = False\n",
    "            break\n",
    "    if(visible):\n",
    "        return visible\n",
    "    for i in range(0, y):\n",
    "        if(input[x][i] < input[x][y]):\n",
    "            visible = True\n",
    "        else:\n",
    "            visible = False\n",
    "            break\n",
    "    if(visible):\n",
    "        return visible\n",
    "    for i in range(y+1, len(input[x])):\n",
    "        if(input[x][i] < input[x][y]):\n",
    "            visible = True\n",
    "        else:\n",
    "            visible = False\n",
    "            break\n",
    "    return visible"
   ]
  },
  {
   "cell_type": "code",
   "execution_count": 43,
   "metadata": {},
   "outputs": [
    {
     "name": "stdout",
     "output_type": "stream",
     "text": [
      "1676\n"
     ]
    }
   ],
   "source": [
    "# Read input from file\n",
    "with open('input.txt', 'r') as f:\n",
    "    input = f.read()\n",
    "\n",
    "input = input.split('\\n')\n",
    "input = [[int(y) for y in x] for x in input]\n",
    "visibility = [[1 if check_visibility(input, i,j) else 0 for j, _ in enumerate(x)] for i, x in enumerate(input)]\n",
    "visibility = sum([item for sublist in visibility for item in sublist])\n",
    "print(visibility)\n"
   ]
  },
  {
   "cell_type": "code",
   "execution_count": 78,
   "metadata": {},
   "outputs": [],
   "source": [
    "def get_score(input, x, y):\n",
    "    if(x == 0 or y == 0 or x == len(input) - 1 or y == len(input[x]) - 1):\n",
    "        return 0\n",
    "    count = 0\n",
    "    score = 1\n",
    "    for i in range(x-1, -1, -1):\n",
    "        count+=1\n",
    "        if(input[i][y] >= input[x][y]):\n",
    "            score = score * count\n",
    "            count = 0\n",
    "            break\n",
    "    if(count != 0):\n",
    "        score = score * count\n",
    "        count = 0\n",
    "    for i in range(x+1, len(input)):\n",
    "        count+=1\n",
    "        if(input[i][y] >= input[x][y]):\n",
    "            score = score * count\n",
    "            count = 0\n",
    "            break\n",
    "    if(count != 0):\n",
    "        score = score * count\n",
    "        count = 0\n",
    "    for i in range(y-1, -1, -1):\n",
    "        count+=1\n",
    "        if(input[x][i] >= input[x][y]):\n",
    "            score = score * count\n",
    "            count = 0\n",
    "            break\n",
    "    if(count != 0):\n",
    "        score = score * count\n",
    "        count = 0\n",
    "    for i in range(y+1, len(input[x])):\n",
    "        count+=1\n",
    "        if(input[x][i] >= input[x][y]):\n",
    "            score = score * count\n",
    "            count = 0\n",
    "            break\n",
    "    if(count != 0):\n",
    "        score = score * count\n",
    "        count = 0\n",
    "    return score"
   ]
  },
  {
   "cell_type": "code",
   "execution_count": 79,
   "metadata": {},
   "outputs": [
    {
     "name": "stdout",
     "output_type": "stream",
     "text": [
      "313200\n"
     ]
    }
   ],
   "source": [
    "# Read input from file\n",
    "with open('input.txt', 'r') as f:\n",
    "    input = f.read()\n",
    "\n",
    "input = input.split('\\n')\n",
    "input = [[int(y) for y in x] for x in input]\n",
    "visibility = [[get_score(input, i,j) for j, _ in enumerate(x)] for i, x in enumerate(input)]\n",
    "visibility = max([item for sublist in visibility for item in sublist])\n",
    "print(visibility)\n"
   ]
  }
 ],
 "metadata": {
  "kernelspec": {
   "display_name": "Python 3.11.0 64-bit",
   "language": "python",
   "name": "python3"
  },
  "language_info": {
   "codemirror_mode": {
    "name": "ipython",
    "version": 3
   },
   "file_extension": ".py",
   "mimetype": "text/x-python",
   "name": "python",
   "nbconvert_exporter": "python",
   "pygments_lexer": "ipython3",
   "version": "3.11.0"
  },
  "orig_nbformat": 4,
  "vscode": {
   "interpreter": {
    "hash": "c261aea317cc0286b3b3261fbba9abdec21eaa57589985bb7a274bf54d6cc0a7"
   }
  }
 },
 "nbformat": 4,
 "nbformat_minor": 2
}
