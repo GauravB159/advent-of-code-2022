{
 "cells": [
  {
   "cell_type": "code",
   "execution_count": 146,
   "metadata": {},
   "outputs": [],
   "source": [
    "directory_size = {}\n",
    "def calculate_size(directory, name):\n",
    "    if(hasattr(directory_size, name)):\n",
    "        return directory_size[name]\n",
    "    size = 0\n",
    "    for file in directory[name]['files']:\n",
    "        if(file[1] == 'dir'):\n",
    "            size += calculate_size(directory, f'{file[0]}_{name}')\n",
    "        else:\n",
    "            size += int(file[1])\n",
    "    directory_size[name] = size\n",
    "    return size"
   ]
  },
  {
   "cell_type": "code",
   "execution_count": 147,
   "metadata": {},
   "outputs": [
    {
     "name": "stdout",
     "output_type": "stream",
     "text": [
      "201 201\n",
      "1306611\n"
     ]
    }
   ],
   "source": [
    "# Read input from file\n",
    "with open('input.txt', 'r') as f:\n",
    "    input = f.read()\n",
    "\n",
    "commands = input.split('\\n')\n",
    "directory_structure = {}\n",
    "current_directory = ''\n",
    "prev_directory = ''\n",
    "append_files = False\n",
    "for command in commands:\n",
    "    if(append_files and command.find('$ ') == -1):\n",
    "        directory_structure[current_directory]['files'].append((command.split(' ')[1], command.split(' ')[0]))\n",
    "    if(command.find('$ cd') != -1):\n",
    "        append_files = False\n",
    "        prev_directory = current_directory\n",
    "        check_directory = command.split('$ cd')[1].strip()\n",
    "        if(check_directory == '..'):\n",
    "            current_directory = directory_structure[current_directory]['_parent_']\n",
    "            continue\n",
    "        else:\n",
    "            current_directory = command.split('$ cd')[1].strip()\n",
    "            current_directory = f\"{current_directory}_{prev_directory}\"\n",
    "        if not hasattr(directory_structure, current_directory):\n",
    "            directory_structure[current_directory] = {}\n",
    "            directory_structure[current_directory]['_parent_'] = prev_directory\n",
    "            directory_structure[current_directory]['files'] = []\n",
    "    elif(command.find('$ ls') != -1):\n",
    "        append_files = True\n",
    "# print(directory_structure)\n",
    "calculate_size(directory_structure, '/_')\n",
    "# print(list(set(directory_size.keys()) - set(directory_structure.keys())))\n",
    "print(len(directory_size.keys()), len(directory_structure.keys()))\n",
    "print(sum([directory_size[key] if directory_size[key] <= 100000 else 0 for key in directory_size.keys()]))"
   ]
  },
  {
   "cell_type": "code",
   "execution_count": 148,
   "metadata": {},
   "outputs": [
    {
     "name": "stdout",
     "output_type": "stream",
     "text": [
      "50822529\n",
      "19177471 10822529\n",
      "[-2387837, -5870738, -14850195, -40000000]\n",
      "13210366\n"
     ]
    }
   ],
   "source": [
    "print(directory_size['/_'])\n",
    "total_size_available = 70000000 - directory_size['/_']\n",
    "total_size_required = 30000000 - total_size_available\n",
    "print(total_size_available, total_size_required)\n",
    "print(list(filter(lambda x: x <= 0, [total_size_required - x for x in directory_size.values()])))\n",
    "differences =  total_size_required - max(list(filter(lambda x: x <= 0, [total_size_required - x for x in directory_size.values()])))\n",
    "print(differences)"
   ]
  }
 ],
 "metadata": {
  "kernelspec": {
   "display_name": "Python 3.11.0 64-bit",
   "language": "python",
   "name": "python3"
  },
  "language_info": {
   "codemirror_mode": {
    "name": "ipython",
    "version": 3
   },
   "file_extension": ".py",
   "mimetype": "text/x-python",
   "name": "python",
   "nbconvert_exporter": "python",
   "pygments_lexer": "ipython3",
   "version": "3.11.0"
  },
  "orig_nbformat": 4,
  "vscode": {
   "interpreter": {
    "hash": "c261aea317cc0286b3b3261fbba9abdec21eaa57589985bb7a274bf54d6cc0a7"
   }
  }
 },
 "nbformat": 4,
 "nbformat_minor": 2
}
