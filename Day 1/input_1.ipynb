{
 "cells": [
  {
   "cell_type": "code",
   "execution_count": 14,
   "metadata": {},
   "outputs": [
    {
     "name": "stdout",
     "output_type": "stream",
     "text": [
      "205805\n"
     ]
    }
   ],
   "source": [
    "# Read input from file\n",
    "with open('input_1.txt', 'r') as f:\n",
    "    input = f.read()\n",
    "    \n",
    "# Split input into lines\n",
    "input = input.split('\\n')\n",
    "# iterate over input\n",
    "sum = 0\n",
    "cookies = []\n",
    "for i in input:\n",
    "    if(i == ''):\n",
    "        cookies.append(sum)\n",
    "        sum = 0\n",
    "        continue\n",
    "    sum = sum + int(i)\n",
    "\n",
    "cookies.sort(reverse=True)\n",
    "print(cookies[0] + cookies[1] + cookies[2])"
   ]
  }
 ],
 "metadata": {
  "kernelspec": {
   "display_name": "Python 3.11.0 64-bit",
   "language": "python",
   "name": "python3"
  },
  "language_info": {
   "codemirror_mode": {
    "name": "ipython",
    "version": 3
   },
   "file_extension": ".py",
   "mimetype": "text/x-python",
   "name": "python",
   "nbconvert_exporter": "python",
   "pygments_lexer": "ipython3",
   "version": "3.11.0"
  },
  "orig_nbformat": 4,
  "vscode": {
   "interpreter": {
    "hash": "c261aea317cc0286b3b3261fbba9abdec21eaa57589985bb7a274bf54d6cc0a7"
   }
  }
 },
 "nbformat": 4,
 "nbformat_minor": 2
}
