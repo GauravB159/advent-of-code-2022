{
 "cells": [
  {
   "cell_type": "code",
   "execution_count": 50,
   "metadata": {},
   "outputs": [
    {
     "name": "stdout",
     "output_type": "stream",
     "text": [
      "2227 10831\n"
     ]
    }
   ],
   "source": [
    "with open('input.txt', 'r') as f:\n",
    "    input = f.read()\n",
    "input = input.splitlines()\n",
    "input = [(int(x), i) for i, x in enumerate(input)]\n",
    "clone = input.copy()\n",
    "count = 0\n",
    "while count < len(input):\n",
    "    value = input[count]\n",
    "    currpos = clone.index(value)\n",
    "    clone.remove(value)\n",
    "    if(currpos + value[0] == 0):\n",
    "        clone.append(value)\n",
    "    else:\n",
    "        clone.insert((currpos + value[0]) % (len(input) - 1), value)\n",
    "    count += 1\n",
    "clone = [x[0] for x in clone]\n",
    "check = clone.index(0)\n",
    "print(check, clone[(check + 1000) % (len(clone))] + clone[(check + 2000) % (len(clone))] + clone[(check + 3000) % (len(clone))])"
   ]
  },
  {
   "cell_type": "code",
   "execution_count": 51,
   "metadata": {},
   "outputs": [
    {
     "name": "stdout",
     "output_type": "stream",
     "text": [
      "2123 6420481789383\n"
     ]
    }
   ],
   "source": [
    "with open('input.txt', 'r') as f:\n",
    "    input = f.read()\n",
    "input = input.splitlines()\n",
    "decryption_key = 811589153\n",
    "input = [(int(x) * decryption_key, i) for i, x in enumerate(input)]\n",
    "clone = input.copy()\n",
    "count = 0\n",
    "repeat = 10\n",
    "while count < repeat * len(input):\n",
    "    value = input[count % len(input)]\n",
    "    # clone.insert(count + value, value)\n",
    "    currpos = clone.index(value)\n",
    "    clone.remove(value)\n",
    "    if(currpos + value[0] == 0):\n",
    "        clone.append(value)\n",
    "    else:\n",
    "        clone.insert((currpos + value[0]) % (len(input) - 1), value)\n",
    "    count += 1\n",
    "clone = [x[0] for x in clone]\n",
    "check = clone.index(0)\n",
    "print(check, clone[(check + 1000) % (len(clone))] + clone[(check + 2000) % (len(clone))] + clone[(check + 3000) % (len(clone))])"
   ]
  }
 ],
 "metadata": {
  "kernelspec": {
   "display_name": "Python 3.11.0 64-bit",
   "language": "python",
   "name": "python3"
  },
  "language_info": {
   "codemirror_mode": {
    "name": "ipython",
    "version": 3
   },
   "file_extension": ".py",
   "mimetype": "text/x-python",
   "name": "python",
   "nbconvert_exporter": "python",
   "pygments_lexer": "ipython3",
   "version": "3.11.0"
  },
  "orig_nbformat": 4,
  "vscode": {
   "interpreter": {
    "hash": "c261aea317cc0286b3b3261fbba9abdec21eaa57589985bb7a274bf54d6cc0a7"
   }
  }
 },
 "nbformat": 4,
 "nbformat_minor": 2
}
