{
 "cells": [
  {
   "cell_type": "code",
   "execution_count": 5,
   "metadata": {},
   "outputs": [
    {
     "name": "stdout",
     "output_type": "stream",
     "text": [
      "11666\n"
     ]
    }
   ],
   "source": [
    "# Read input from file\n",
    "with open('input.txt', 'r') as f:\n",
    "    input = f.read()\n",
    "    \n",
    "# Split input into lines\n",
    "input = input.split('\\n')\n",
    "maps = {\n",
    "    'A': 'Rock',\n",
    "    'B': 'Paper', \n",
    "    'C': 'Scissors',\n",
    "    'X': 'Rock',\n",
    "    'Y': 'Paper',\n",
    "    'Z': 'Scissors'\n",
    "}\n",
    "scores = {\n",
    "    'Rock-Rock': 4,\n",
    "    'Rock-Paper': 8,\n",
    "    'Rock-Scissors': 3,\n",
    "    'Paper-Rock': 1,\n",
    "    'Paper-Paper': 5,\n",
    "    'Paper-Scissors': 9,\n",
    "    'Scissors-Rock': 7,\n",
    "    'Scissors-Paper': 2,\n",
    "    'Scissors-Scissors': 6\n",
    "}\n",
    "inputs = [scores[f\"{maps[i.split(' ')[0]]}-{maps[i.split(' ')[1]]}\"] for i in input if i]\n",
    "print(sum(inputs))"
   ]
  },
  {
   "cell_type": "code",
   "execution_count": 6,
   "metadata": {},
   "outputs": [
    {
     "name": "stdout",
     "output_type": "stream",
     "text": [
      "12767\n"
     ]
    }
   ],
   "source": [
    "# Read input from file\n",
    "with open('input.txt', 'r') as f:\n",
    "    input = f.read()\n",
    "    \n",
    "# Split input into lines\n",
    "input = input.split('\\n')\n",
    "maps = {\n",
    "    'A': 'Rock',\n",
    "    'B': 'Paper', \n",
    "    'C': 'Scissors',\n",
    "    'X': 'Lose',\n",
    "    'Y': 'Draw',\n",
    "    'Z': 'Win'\n",
    "}\n",
    "scores = {\n",
    "    'Rock-Lose': 3,\n",
    "    'Rock-Draw': 4,\n",
    "    'Rock-Win': 8,\n",
    "    'Paper-Lose': 1,\n",
    "    'Paper-Draw': 5,\n",
    "    'Paper-Win': 9,\n",
    "    'Scissors-Lose': 2,\n",
    "    'Scissors-Draw': 6,\n",
    "    'Scissors-Win': 7\n",
    "}\n",
    "inputs = [scores[f\"{maps[i.split(' ')[0]]}-{maps[i.split(' ')[1]]}\"] for i in input if i]\n",
    "print(sum(inputs))"
   ]
  }
 ],
 "metadata": {
  "kernelspec": {
   "display_name": "Python 3.11.0 64-bit",
   "language": "python",
   "name": "python3"
  },
  "language_info": {
   "codemirror_mode": {
    "name": "ipython",
    "version": 3
   },
   "file_extension": ".py",
   "mimetype": "text/x-python",
   "name": "python",
   "nbconvert_exporter": "python",
   "pygments_lexer": "ipython3",
   "version": "3.11.0"
  },
  "orig_nbformat": 4,
  "vscode": {
   "interpreter": {
    "hash": "c261aea317cc0286b3b3261fbba9abdec21eaa57589985bb7a274bf54d6cc0a7"
   }
  }
 },
 "nbformat": 4,
 "nbformat_minor": 2
}
