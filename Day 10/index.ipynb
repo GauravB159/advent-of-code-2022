{
 "cells": [
  {
   "cell_type": "code",
   "execution_count": 12,
   "metadata": {},
   "outputs": [
    {
     "name": "stdout",
     "output_type": "stream",
     "text": [
      "13760\n"
     ]
    }
   ],
   "source": [
    "# Read input from file\n",
    "with open('input.txt', 'r') as f:\n",
    "    input = f.read()\n",
    "input = input.split('\\n')\n",
    "cycle = 1\n",
    "current_value = 1\n",
    "lower = 20\n",
    "upper = 220\n",
    "current_check = lower\n",
    "step = 40\n",
    "score = 0\n",
    "for operation in input:\n",
    "    if(operation == 'noop'):\n",
    "        cycle += 1\n",
    "        additive = 0\n",
    "    else:\n",
    "        additive = int(operation.split(' ')[1])\n",
    "        cycle += 2\n",
    "    if(cycle >= current_check):\n",
    "        if(cycle == current_check):\n",
    "            score += current_check * (current_value + additive)\n",
    "        else:\n",
    "            score += current_check * current_value\n",
    "        current_check += step\n",
    "    current_value = current_value + additive\n",
    "    if(current_check > upper):\n",
    "        break\n",
    "print(score)"
   ]
  },
  {
   "cell_type": "code",
   "execution_count": 19,
   "metadata": {},
   "outputs": [
    {
     "name": "stdout",
     "output_type": "stream",
     "text": [
      "(6, 40)\n"
     ]
    },
    {
     "data": {
      "text/plain": [
       "<matplotlib.image.AxesImage at 0x27c8dc0e9d0>"
      ]
     },
     "execution_count": 19,
     "metadata": {},
     "output_type": "execute_result"
    },
    {
     "data": {
      "image/png": "[encoded data removed]",
      "text/plain": [
       "<Figure size 1600x240 with 1 Axes>"
      ]
     },
     "metadata": {},
     "output_type": "display_data"
    }
   ],
   "source": [
    "import numpy as np\n",
    "import matplotlib.pyplot as plt\n",
    "\n",
    "# Read input from file\n",
    "with open('input.txt', 'r') as f:\n",
    "    input = f.read()\n",
    "input = input.split('\\n')\n",
    "cycle = 1\n",
    "current_value = 1\n",
    "lower = 40\n",
    "upper = 240\n",
    "current_check = lower\n",
    "step = 40\n",
    "score = 0\n",
    "char = \".\"\n",
    "display = []\n",
    "for operation in input:\n",
    "    if(operation == 'noop'):\n",
    "        display.append(current_value)\n",
    "        cycle += 1\n",
    "        additive = 0\n",
    "    else:\n",
    "        display.append(current_value)\n",
    "        display.append(current_value)\n",
    "        additive = int(operation.split(' ')[1])\n",
    "        cycle += 2\n",
    "    if(cycle >= current_check):\n",
    "        if(cycle == current_check):\n",
    "            score += current_check * (current_value + additive)\n",
    "        else:\n",
    "            score += current_check * current_value\n",
    "        current_check += step\n",
    "    current_value = current_value + additive\n",
    "    if(current_check > upper):\n",
    "        break\n",
    "\n",
    "display = [1 if abs(value - (cycle % 40)) <= 1 else 0 for cycle, value in enumerate(display)] + [0]\n",
    "\n",
    "# print(display)\n",
    "display = np.array(display)\n",
    "display = np.reshape(display, (display.shape[0]//40, 40))\n",
    "print(display.shape)\n",
    "plt.matshow(display)\n"
   ]
  }
 ],
 "metadata": {
  "kernelspec": {
   "display_name": "Python 3.11.0 64-bit",
   "language": "python",
   "name": "python3"
  },
  "language_info": {
   "codemirror_mode": {
    "name": "ipython",
    "version": 3
   },
   "file_extension": ".py",
   "mimetype": "text/x-python",
   "name": "python",
   "nbconvert_exporter": "python",
   "pygments_lexer": "ipython3",
   "version": "3.11.0"
  },
  "orig_nbformat": 4,
  "vscode": {
   "interpreter": {
    "hash": "c261aea317cc0286b3b3261fbba9abdec21eaa57589985bb7a274bf54d6cc0a7"
   }
  }
 },
 "nbformat": 4,
 "nbformat_minor": 2
}
