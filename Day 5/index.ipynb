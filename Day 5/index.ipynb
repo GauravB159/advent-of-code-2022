{
 "cells": [
  {
   "cell_type": "code",
   "execution_count": 83,
   "metadata": {},
   "outputs": [
    {
     "name": "stdout",
     "output_type": "stream",
     "text": [
      "DMRDFRHHH\n"
     ]
    }
   ],
   "source": [
    "import math\n",
    "# Read input from file\n",
    "with open('input.txt', 'r') as f:\n",
    "    input = f.read()\n",
    "    \n",
    "# Split input into lines\n",
    "input = input.split('\\n\\n')\n",
    "crates = [x.split(' ') for x in input[0].split('\\n')]\n",
    "new_crates = []\n",
    "for i,x in enumerate(crates):\n",
    "    spaced_count = 0\n",
    "    new_crate = []\n",
    "    for j,y in enumerate(x):\n",
    "        if(y == ''):\n",
    "            if(spaced_count == 0):\n",
    "                spaced_count += 1\n",
    "                new_crate.append(y)\n",
    "            if(spaced_count <= 4):\n",
    "                spaced_count += 1\n",
    "                continue\n",
    "            else:\n",
    "                spaced_count = 0\n",
    "        else:\n",
    "            new_crate.append(y)\n",
    "            spaced_count = 0\n",
    "    new_crates.append(new_crate)\n",
    "\n",
    "\n",
    "new_crates[len(new_crates)-1] = list(filter(lambda x: x != '', new_crates[len(new_crates)-1]))\n",
    "new_crates = list(map(list, zip(*new_crates)))\n",
    "crane_model = 9001\n",
    "dict_crates = {}\n",
    "for x in new_crates:\n",
    "    dict_key = x.pop()\n",
    "    dict_crates[int(dict_key)] = list(filter(lambda y: y != '', x))\n",
    "instructions = input[1].split('\\n')\n",
    "instructions = [list(map(lambda i: int(i), filter(lambda i: i.isnumeric(), x.split(' ')))) for x in instructions]\n",
    "for instruction in instructions:\n",
    "    number_of_items = instruction[0]\n",
    "    from_dict_key = instruction[1]\n",
    "    to_dict_key = instruction[2]\n",
    "    move_keys = dict_crates[from_dict_key][:number_of_items]\n",
    "    if(crane_model != 9001):\n",
    "        move_keys.reverse() \n",
    "    dict_crates[to_dict_key] = move_keys + dict_crates[to_dict_key]\n",
    "    dict_crates[from_dict_key] = dict_crates[from_dict_key][number_of_items:]\n",
    "dict_keys = list(dict_crates.keys())\n",
    "list_crates = list(map(lambda i: dict_crates[i], dict_keys))\n",
    "answer = ''.join([x[0].replace('[', '').replace(']','') for x in list_crates])\n",
    "print(answer)"
   ]
  }
 ],
 "metadata": {
  "kernelspec": {
   "display_name": "Python 3.11.0 64-bit",
   "language": "python",
   "name": "python3"
  },
  "language_info": {
   "codemirror_mode": {
    "name": "ipython",
    "version": 3
   },
   "file_extension": ".py",
   "mimetype": "text/x-python",
   "name": "python",
   "nbconvert_exporter": "python",
   "pygments_lexer": "ipython3",
   "version": "3.11.0"
  },
  "orig_nbformat": 4,
  "vscode": {
   "interpreter": {
    "hash": "c261aea317cc0286b3b3261fbba9abdec21eaa57589985bb7a274bf54d6cc0a7"
   }
  }
 },
 "nbformat": 4,
 "nbformat_minor": 2
}
