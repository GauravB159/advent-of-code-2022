{
 "cells": [
  {
   "cell_type": "code",
   "execution_count": 63,
   "metadata": {},
   "outputs": [],
   "source": [
    "def calculate_root(input, key, value):\n",
    "    check = input[key]\n",
    "    if type(check) is tuple:\n",
    "        lvalue = calculate_root(input, check[0], value)\n",
    "        operator = check[1]\n",
    "        rvalue = calculate_root(input, check[2], value)\n",
    "        return f\"({lvalue} {operator} {rvalue})\"\n",
    "    else:\n",
    "        return check"
   ]
  },
  {
   "cell_type": "code",
   "execution_count": 239,
   "metadata": {},
   "outputs": [
    {
     "name": "stdout",
     "output_type": "stream",
     "text": [
      "276156919469632.0\n"
     ]
    }
   ],
   "source": [
    "import re\n",
    "with open('input.txt', 'r') as f:\n",
    "    input = f.read()\n",
    "input = input.splitlines()\n",
    "input = [x.split(':') for x in input]\n",
    "input = {x[0]: x[1].strip() for x in input}\n",
    "input = {k: re.match(r\"(.*)\\s(\\+|-|\\*|\\/)\\s(.*)\", v).groups() if re.match(r\"(.*)\\s(\\+|-|\\*|\\/)\\s(.*)\", v) else v for k, v in input.items()}\n",
    "result =  eval(calculate_root(input, 'root', 0))\n",
    "print(result)"
   ]
  },
  {
   "cell_type": "code",
   "execution_count": 238,
   "metadata": {},
   "outputs": [
    {
     "name": "stdout",
     "output_type": "stream",
     "text": [
      "3441198826073\n"
     ]
    }
   ],
   "source": [
    "import re\n",
    "with open('input.txt', 'r') as f:\n",
    "    input = f.read()\n",
    "input = input.splitlines()\n",
    "input = [x.split(':') for x in input]\n",
    "input = {x[0]: x[1].strip() for x in input}\n",
    "input = {k: re.match(r\"(.*)\\s(\\+|-|\\*|\\/)\\s(.*)\", v).groups() if re.match(r\"(.*)\\s(\\+|-|\\*|\\/)\\s(.*)\", v) else v for k, v in input.items()}\n",
    "input['humn'] = 'humn'\n",
    "lval =  calculate_root(input, input['root'][0], 0)\n",
    "rval = calculate_root(input, input['root'][2], 0)\n",
    "if \"humn\" in lval:\n",
    "    check = eval(rval)\n",
    "    replace = lval\n",
    "else:\n",
    "    check = eval(lval)\n",
    "    replace = rval\n",
    "min = 0\n",
    "max = 5000000000000\n",
    "count = 0\n",
    "while count < 100:\n",
    "    count += 1\n",
    "    mid = (min + max) // 2\n",
    "    check_left = eval(replace.replace('humn', str(mid)))\n",
    "    if(check_left == check):\n",
    "        print(mid)\n",
    "        break\n",
    "    elif(check_left > check):\n",
    "        min = mid\n",
    "    else:\n",
    "        max = mid"
   ]
  }
 ],
 "metadata": {
  "kernelspec": {
   "display_name": "Python 3.11.0 64-bit",
   "language": "python",
   "name": "python3"
  },
  "language_info": {
   "codemirror_mode": {
    "name": "ipython",
    "version": 3
   },
   "file_extension": ".py",
   "mimetype": "text/x-python",
   "name": "python",
   "nbconvert_exporter": "python",
   "pygments_lexer": "ipython3",
   "version": "3.11.0"
  },
  "orig_nbformat": 4,
  "vscode": {
   "interpreter": {
    "hash": "c261aea317cc0286b3b3261fbba9abdec21eaa57589985bb7a274bf54d6cc0a7"
   }
  }
 },
 "nbformat": 4,
 "nbformat_minor": 2
}
