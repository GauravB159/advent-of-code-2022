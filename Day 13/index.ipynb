{
 "cells": [
  {
   "cell_type": "code",
   "execution_count": 108,
   "metadata": {},
   "outputs": [],
   "source": [
    "def compare_lists(left, right):\n",
    "    while(len(left) > 0 and len(right) > 0):\n",
    "        left_item = left.pop(0)\n",
    "        right_item = right.pop(0)\n",
    "        # print(left_item, right_item)\n",
    "        if isinstance(left_item, list) and isinstance(right_item, list):\n",
    "            check = compare_lists(left_item.copy(), right_item.copy())\n",
    "            if check == True:\n",
    "                return True\n",
    "            elif check == False:\n",
    "                return False\n",
    "        elif isinstance(left_item, list) or isinstance(right_item, list):\n",
    "            if isinstance(left_item, list):\n",
    "                check = compare_lists(left_item.copy(), [right_item])\n",
    "                if check == True:\n",
    "                    return True\n",
    "                elif check == False:\n",
    "                    return False\n",
    "            if isinstance(right_item, list):\n",
    "                check = compare_lists([left_item], right_item.copy())\n",
    "                if check == True:\n",
    "                    return True\n",
    "                elif check == False:\n",
    "                    return False\n",
    "        elif left_item < right_item:\n",
    "            return True\n",
    "        elif left_item > right_item:\n",
    "            return False\n",
    "    if(len(right) > 0): \n",
    "        return True\n",
    "    if(len(left) > 0):\n",
    "        return False\n",
    "    return \"Equal\""
   ]
  },
  {
   "cell_type": "code",
   "execution_count": 109,
   "metadata": {},
   "outputs": [
    {
     "name": "stdout",
     "output_type": "stream",
     "text": [
      "13\n"
     ]
    }
   ],
   "source": [
    "# Read input from file\n",
    "# PART 1\n",
    "import json\n",
    "\n",
    "with open('input.txt', 'r') as f:\n",
    "    input = f.read()\n",
    "input = input.split('\\n\\n')\n",
    "input = [list(map(lambda y: json.loads(y), x.split('\\n'))) for x in input]\n",
    "count = 0\n",
    "for i, pair in enumerate(input):\n",
    "    if(compare_lists(pair[0], pair[1])):\n",
    "        count += (i+1)\n",
    "print(count)\n"
   ]
  },
  {
   "cell_type": "code",
   "execution_count": 112,
   "metadata": {},
   "outputs": [],
   "source": [
    "def final_compare(x,y):\n",
    "    value = compare_lists(x.copy(), y.copy())\n",
    "    if(value == \"Equal\"): return 0\n",
    "    elif(value == True): return -1\n",
    "    elif(value == False): return 1"
   ]
  },
  {
   "cell_type": "code",
   "execution_count": 121,
   "metadata": {},
   "outputs": [
    {
     "name": "stdout",
     "output_type": "stream",
     "text": [
      "21922\n"
     ]
    }
   ],
   "source": [
    "# Read input from file\n",
    "# PART 2\n",
    "from functools import cmp_to_key\n",
    "\n",
    "with open('input.txt', 'r') as f:\n",
    "    input = f.read()\n",
    "input = list(filter(lambda x: x, input.split('\\n')))\n",
    "input = input + ['[[2]]', '[[6]]']\n",
    "input = [json.loads(x) for x in input]\n",
    "input.sort(key = cmp_to_key(final_compare))\n",
    "print((input.index([[6]]) + 1) * (input.index([[2]]) + 1))"
   ]
  }
 ],
 "metadata": {
  "kernelspec": {
   "display_name": "Python 3.11.0 64-bit",
   "language": "python",
   "name": "python3"
  },
  "language_info": {
   "codemirror_mode": {
    "name": "ipython",
    "version": 3
   },
   "file_extension": ".py",
   "mimetype": "text/x-python",
   "name": "python",
   "nbconvert_exporter": "python",
   "pygments_lexer": "ipython3",
   "version": "3.11.0"
  },
  "orig_nbformat": 4,
  "vscode": {
   "interpreter": {
    "hash": "c261aea317cc0286b3b3261fbba9abdec21eaa57589985bb7a274bf54d6cc0a7"
   }
  }
 },
 "nbformat": 4,
 "nbformat_minor": 2
}
